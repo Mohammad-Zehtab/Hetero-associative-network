{
 "cells": [
  {
   "attachments": {},
   "cell_type": "markdown",
   "metadata": {},
   "source": [
    "In this section, the required libraries are imported"
   ]
  },
  {
   "cell_type": "code",
   "execution_count": 33,
   "metadata": {},
   "outputs": [],
   "source": [
    "import numpy as np\n",
    "import matplotlib.pyplot as plt\n"
   ]
  },
  {
   "attachments": {},
   "cell_type": "markdown",
   "metadata": {},
   "source": [
    "In this section, three different fonts for the letter \"A\" with a resolution of 12x10 are defined. Then these fonts are displayed, and finally their dimensions are changed to 1x120 to make working with them easier. Additionally, the transpose of each font is calculated and stored in a separate variable."
   ]
  },
  {
   "cell_type": "code",
   "execution_count": 34,
   "metadata": {},
   "outputs": [
    {
     "data": {
      "image/png": "[encoded data removed]",
      "text/plain": [
       "<Figure size 800x800 with 3 Axes>"
      ]
     },
     "metadata": {},
     "output_type": "display_data"
    }
   ],
   "source": [
    "\n",
    "A1 = np.array([\n",
    "    [0, 1, 1, 1, 1, 1, 1, 1, 0, 0],\n",
    "    [0, 1, 0, 0, 0, 0, 0, 1, 0, 0],\n",
    "    [0, 1, 0, 0, 0, 0, 0, 1, 0, 0],\n",
    "    [0, 1, 1, 1, 1, 1, 1, 1, 0, 0],\n",
    "    [0, 1, 0, 0, 0, 0, 0, 1, 0, 0],\n",
    "    [0, 1, 0, 0, 0, 0, 0, 1, 0, 0],\n",
    "    [0, 1, 0, 0, 0, 0, 0, 1, 0, 0],\n",
    "    [0, 1, 0, 0, 0, 0, 0, 1, 0, 0],\n",
    "    [0, 1, 0, 0, 0, 0, 0, 1, 0, 0],\n",
    "    [0, 1, 0, 0, 0, 0, 0, 1, 0, 0],\n",
    "    [0, 0, 0, 0, 0, 0, 0, 0, 0, 0],\n",
    "    [0, 0, 0, 0, 0, 0, 0, 0, 0, 0]\n",
    "])\n",
    "\n",
    "A2 = np.array([\n",
    "    [0, 0, 0, 0, 1, 0, 0, 0, 0, 0],\n",
    "    [0, 0, 0, 1, 0, 1, 0, 0, 0, 0],\n",
    "    [0, 0, 1, 0, 0, 0, 1, 0, 0, 0],\n",
    "    [0, 1, 1, 1, 1, 1, 1, 1, 0, 0],\n",
    "    [0, 1, 0, 0, 0, 0, 0, 1, 0, 0],\n",
    "    [0, 1, 0, 0, 0, 0, 0, 1, 0, 0],\n",
    "    [0, 1, 0, 0, 0, 0, 0, 1, 0, 0],\n",
    "    [0, 1, 0, 0, 0, 0, 0, 1, 0, 0],\n",
    "    [0, 1, 0, 0, 0, 0, 0, 1, 0, 0],\n",
    "    [0, 1, 0, 0, 0, 0, 0, 1, 0, 0],\n",
    "    [0, 0, 0, 0, 0, 0, 0, 0, 0, 0],\n",
    "    [0, 0, 0, 0, 0, 0, 0, 0, 0, 0]\n",
    "])\n",
    "\n",
    "A3 = np.array([\n",
    "    [0, 0, 0, 1, 1, 1, 0, 0, 0, 0],\n",
    "    [0, 0, 1, 0, 0, 0, 1, 0, 0, 0],\n",
    "    [0, 1, 0, 0, 0, 0, 0, 1, 0, 0],\n",
    "    [0, 1, 1, 1, 1, 1, 1, 1, 0, 0],\n",
    "    [0, 1, 0, 0, 0, 0, 0, 1, 0, 0],\n",
    "    [0, 1, 0, 0, 0, 0, 0, 1, 0, 0],\n",
    "    [0, 1, 0, 0, 0, 0, 0, 1, 0, 0],\n",
    "    [0, 1, 0, 0, 0, 0, 0, 1, 0, 0],\n",
    "    [0, 1, 0, 0, 0, 0, 0, 1, 0, 0],\n",
    "    [0, 1, 0, 0, 0, 0, 0, 1, 0, 0],\n",
    "    [0, 0, 0, 0, 0, 0, 0, 0, 0, 0],\n",
    "    [0, 0, 0, 0, 0, 0, 0, 0, 0, 0]\n",
    "])\n",
    "\n",
    "\n",
    "plt.figure(1, figsize=(8, 8))\n",
    "plt.subplot(1, 3, 1), plt.imshow(A1, cmap='gray'), plt.title('A1')\n",
    "plt.subplot(1, 3, 2), plt.imshow(A2, cmap='gray'), plt.title('A2')\n",
    "plt.subplot(1, 3, 3), plt.imshow(A3, cmap='gray'), plt.title('A3')\n",
    "plt.show()\n",
    "\n",
    "A1=A1.reshape(1,120)\n",
    "AT1 = np.transpose (A1)\n",
    "A2=A2.reshape(1,120)\n",
    "AT2 = np.transpose (A2)\n",
    "A3=A3.reshape(1,120)\n",
    "AT3 = np.transpose (A3)\n",
    "\n"
   ]
  },
  {
   "attachments": {},
   "cell_type": "markdown",
   "metadata": {},
   "source": [
    "In this section, three different fonts for the letter \"B\" with a resolution of 12x10 are defined. Then these fonts are displayed, and finally their dimensions are changed to 1x120 to make working with them easier. Additionally, the transpose of each font is calculated and stored in a separate variable."
   ]
  },
  {
   "cell_type": "code",
   "execution_count": 35,
   "metadata": {},
   "outputs": [
    {
     "data": {
      "image/png": "[encoded data removed]",
      "text/plain": [
       "<Figure size 800x800 with 3 Axes>"
      ]
     },
     "metadata": {},
     "output_type": "display_data"
    }
   ],
   "source": [
    "B1 = np.array([\n",
    "    [0, 1, 1, 1, 1, 1, 1, 0, 0, 0],\n",
    "    [0, 1, 0, 0, 0, 0, 0, 1, 0, 0],\n",
    "    [0, 1, 0, 0, 0, 0, 0, 1, 0, 0],\n",
    "    [0, 1, 0, 0, 0, 0, 0, 1, 0, 0],\n",
    "    [0, 1, 0, 0, 0, 0, 0, 1, 0, 0],\n",
    "    [0, 1, 1, 1, 1, 1, 1, 0, 0, 0],\n",
    "    [0, 1, 0, 0, 0, 0, 0, 1, 0, 0],\n",
    "    [0, 1, 0, 0, 0, 0, 0, 1, 0, 0],\n",
    "    [0, 1, 0, 0, 0, 0, 0, 1, 0, 0],\n",
    "    [0, 1, 0, 0, 0, 0, 0, 1, 0, 0],\n",
    "    [0, 1, 1, 1, 1, 1, 1, 0, 0, 0],\n",
    "    [0, 0, 0, 0, 0, 0, 0, 0, 0, 0]\n",
    "])\n",
    "\n",
    "B2 = np.array([\n",
    "    [0, 1, 1, 1, 1, 1, 0, 0, 0, 0],\n",
    "    [0, 1, 0, 0, 0, 0, 1, 0, 0, 0],\n",
    "    [0, 1, 0, 0, 0, 0, 0, 1, 0, 0],\n",
    "    [0, 1, 0, 0, 0, 0, 0, 1, 0, 0],\n",
    "    [0, 1, 0, 0, 0, 0, 1, 0, 0, 0],\n",
    "    [0, 1, 1, 1, 1, 1, 0, 0, 0, 0],\n",
    "    [0, 1, 0, 0, 0, 0, 1, 0, 0, 0],\n",
    "    [0, 1, 0, 0, 0, 0, 0, 1, 0, 0],\n",
    "    [0, 1, 0, 0, 0, 0, 0, 1, 0, 0],\n",
    "    [0, 1, 0, 0, 0, 0, 1, 0, 0, 0],\n",
    "    [0, 1, 1, 1, 1, 1, 0, 0, 0, 0],\n",
    "    [0, 0, 0, 0, 0, 0, 0, 0, 0, 0]\n",
    "])\n",
    "\n",
    "B3 = np.array([\n",
    "    [0, 1, 1, 1, 1, 1, 1, 0, 0, 0],\n",
    "    [0, 1, 0, 0, 0, 0, 0, 1, 0, 0],\n",
    "    [0, 1, 0, 0, 0, 0, 0, 1, 0, 0],\n",
    "    [0, 1, 0, 0, 0, 0, 0, 1, 0, 0],\n",
    "    [0, 1, 0, 0, 0, 0, 1, 0, 0, 0],\n",
    "    [0, 1, 1, 1, 1, 1, 0, 0, 0, 0],\n",
    "    [0, 1, 0, 0, 0, 0, 1, 0, 0, 0],\n",
    "    [0, 1, 0, 0, 0, 0, 0, 1, 0, 0],\n",
    "    [0, 1, 0, 0, 0, 0, 0, 1, 0, 0],\n",
    "    [0, 1, 0, 0, 0, 0, 0, 1, 0, 0],\n",
    "    [0, 1, 1, 1, 1, 1, 1, 0, 0, 0],\n",
    "    [0, 0, 0, 0, 0, 0, 0, 0, 0, 0]\n",
    "])\n",
    "\n",
    "plt.figure(1, figsize=(8, 8))\n",
    "plt.subplot(1, 3, 1), plt.imshow(B1, cmap='gray'), plt.title('B1')\n",
    "plt.subplot(1, 3, 2), plt.imshow(B2, cmap='gray'), plt.title('B2')\n",
    "plt.subplot(1, 3, 3), plt.imshow(B3, cmap='gray'), plt.title('B3')\n",
    "plt.show()\n",
    "\n",
    "B1=B1.reshape(1,120)\n",
    "BT1 = np.transpose (B1)\n",
    "B2=B2.reshape(1,120)\n",
    "BT2 = np.transpose (B2)\n",
    "B3=B3.reshape(1,120)\n",
    "BT3 = np.transpose (B3)\n"
   ]
  },
  {
   "attachments": {},
   "cell_type": "markdown",
   "metadata": {},
   "source": [
    "In this section, three different fonts for the letter \"M\" with a resolution of 12x10 are defined. Then these fonts are displayed, and finally their dimensions are changed to 1x120 to make working with them easier. Additionally, the transpose of each font is calculated and stored in a separate variable."
   ]
  },
  {
   "cell_type": "code",
   "execution_count": 36,
   "metadata": {},
   "outputs": [
    {
     "data": {
      "image/png": "[encoded data removed]",
      "text/plain": [
       "<Figure size 800x800 with 3 Axes>"
      ]
     },
     "metadata": {},
     "output_type": "display_data"
    }
   ],
   "source": [
    "M1 = np.array([\n",
    "    [1, 0, 0, 0, 0, 0, 0, 0, 0, 1],\n",
    "    [1, 1, 0, 0, 0, 0, 0, 0, 1, 1],\n",
    "    [1, 0, 1, 0, 0, 0, 0, 1, 0, 1],\n",
    "    [1, 0, 0, 1, 0, 0, 1, 0, 0, 1],\n",
    "    [1, 0, 0, 0, 1, 1, 0, 0, 0, 1],\n",
    "    [1, 0, 0, 0, 0, 0, 0, 0, 0, 1],\n",
    "    [1, 0, 0, 0, 0, 0, 0, 0, 0, 1],\n",
    "    [1, 0, 0, 0, 0, 0, 0, 0, 0, 1],\n",
    "    [1, 0, 0, 0, 0, 0, 0, 0, 0, 1],\n",
    "    [1, 0, 0, 0, 0, 0, 0, 0, 0, 1],\n",
    "    [0, 0, 0, 0, 0, 0, 0, 0, 0, 0],\n",
    "    [0, 0, 0, 0, 0, 0, 0, 0, 0, 0]\n",
    "])\n",
    "\n",
    "M2 = np.array([\n",
    "    [1, 0, 0, 0, 0, 0, 0, 0, 1, 0],\n",
    "    [1, 1, 0, 0, 0, 0, 0, 1, 1, 0],\n",
    "    [1, 0, 1, 0, 0, 0, 1, 0, 1, 0],\n",
    "    [1, 0, 0, 1, 0, 1, 0, 0, 1, 0],\n",
    "    [1, 0, 0, 0, 1, 0, 0, 0, 1, 0],\n",
    "    [1, 0, 0, 0, 0, 0, 0, 0, 1, 0],\n",
    "    [1, 0, 0, 0, 0, 0, 0, 0, 1, 0],\n",
    "    [1, 0, 0, 0, 0, 0, 0, 0, 1, 0],\n",
    "    [1, 0, 0, 0, 0, 0, 0, 0, 1, 0],\n",
    "    [1, 0, 0, 0, 0, 0, 0, 0, 1, 0],\n",
    "    [0, 0, 0, 0, 0, 0, 0, 0, 0, 0],\n",
    "    [0, 0, 0, 0, 0, 0, 0, 0, 0, 0]\n",
    "])\n",
    "\n",
    "M3 = np.array([\n",
    "    [1, 0, 0, 0, 0, 0, 0, 0, 0, 1],\n",
    "    [1, 1, 0, 0, 0, 0, 0, 0, 1, 1],\n",
    "    [1, 0, 1, 0, 0, 0, 0, 1, 0, 1],\n",
    "    [1, 0, 0, 1, 0, 0, 1, 0, 0, 1],\n",
    "    [1, 0, 0, 0, 1, 1, 0, 0, 0, 1],\n",
    "    [1, 0, 0, 0, 0, 0, 0, 0, 0, 1],\n",
    "    [1, 0, 0, 0, 0, 0, 0, 0, 0, 1],\n",
    "    [1, 0, 0, 0, 0, 0, 0, 0, 0, 1],\n",
    "    [1, 0, 0, 0, 0, 0, 0, 0, 0, 1],\n",
    "    [0, 0, 0, 0, 0, 0, 0, 0, 0, 0],\n",
    "    [0, 0, 0, 0, 0, 0, 0, 0, 0, 0],\n",
    "    [0, 0, 0, 0, 0, 0, 0, 0, 0, 0]\n",
    "])\n",
    "\n",
    "plt.figure(1, figsize=(8, 8))\n",
    "plt.subplot(1, 3, 1), plt.imshow(M1, cmap='gray'), plt.title('M1')\n",
    "plt.subplot(1, 3, 2), plt.imshow(M2, cmap='gray'), plt.title('M2')\n",
    "plt.subplot(1, 3, 3), plt.imshow(M3, cmap='gray'), plt.title('M3')\n",
    "plt.show()\n",
    "\n",
    "M1=B1.reshape(1,120)\n",
    "MT1 = np.transpose (M1)\n",
    "M2=M2.reshape(1,120)\n",
    "MT2 = np.transpose (M2)\n",
    "M3=M3.reshape(1,120)\n",
    "MT3 = np.transpose (M3)"
   ]
  },
  {
   "attachments": {},
   "cell_type": "markdown",
   "metadata": {},
   "source": [
    "In the section where 6x10 matrices are defined for each font, which serve as target matrices for each font, these matrices were also reshaped to dimensions of 1x60 after being displayed.\n",
    " "
   ]
  },
  {
   "cell_type": "code",
   "execution_count": 37,
   "metadata": {},
   "outputs": [
    {
     "data": {
      "image/png": "[encoded data removed]",
      "text/plain": [
       "<Figure size 800x800 with 3 Axes>"
      ]
     },
     "metadata": {},
     "output_type": "display_data"
    }
   ],
   "source": [
    "A4 = np.array([\n",
    "    [0, 0, 1, 1, 0, 0],\n",
    "    [0, 1, 0, 0, 1, 0],\n",
    "    [1, 0, 0, 0, 0, 1],\n",
    "    [1, 1, 1, 1, 1, 1],\n",
    "    [1, 0, 0, 0, 0, 1],\n",
    "    [1, 0, 0, 0, 0, 1],\n",
    "    [1, 0, 0, 0, 0, 1],\n",
    "    [1, 0, 0, 0, 0, 1],\n",
    "    [1, 0, 0, 0, 0, 1],\n",
    "    [0, 0, 0, 0, 0, 0]\n",
    "])\n",
    "\n",
    "B4 = np.array([\n",
    "    [1, 1, 1, 1, 0, 0],\n",
    "    [1, 0, 0, 0, 1, 0],\n",
    "    [1, 0, 0, 0, 1, 0],\n",
    "    [1, 0, 0, 0, 1, 0],\n",
    "    [1, 1, 1, 1, 0, 0],\n",
    "    [1, 0, 0, 0, 1, 0],\n",
    "    [1, 0, 0, 0, 1, 0],\n",
    "    [1, 0, 0, 0, 1, 0],\n",
    "    [1, 1, 1, 1, 0, 0],\n",
    "    [0, 0, 0, 0, 0, 0]\n",
    "])\n",
    "\n",
    "M4 = np.array([\n",
    "    [1, 0, 0, 0, 0, 1],\n",
    "    [1, 1, 0, 0, 1, 1],\n",
    "    [1, 0, 1, 1, 0, 1],\n",
    "    [1, 0, 0, 0, 0, 1],\n",
    "    [1, 0, 0, 0, 0, 1],\n",
    "    [1, 0, 0, 0, 0, 1],\n",
    "    [1, 0, 0, 0, 0, 1],\n",
    "    [1, 0, 0, 0, 0, 1],\n",
    "    [0, 0, 0, 0, 0, 0],\n",
    "    [0, 0, 0, 0, 0, 0]\n",
    "])\n",
    "\n",
    "\n",
    "plt.figure(1, figsize=(8, 8))\n",
    "plt.subplot(2, 4, 1), plt.imshow(A4, cmap='gray'), plt.title('A')\n",
    "plt.subplot(2, 4, 2), plt.imshow(B4, cmap='gray'), plt.title('B')\n",
    "plt.subplot(2, 4, 3), plt.imshow(M4, cmap='gray'), plt.title('M')\n",
    "plt.show()\n",
    "\n",
    "A4=A4.reshape(1,60)\n",
    "B4=B4.reshape(1,60)\n",
    "M4=M4.reshape(1,60)\n",
    "\n",
    "\n"
   ]
  },
  {
   "attachments": {},
   "cell_type": "markdown",
   "metadata": {},
   "source": [
    "In this section, two variables are defined as input and output, which will be used for training. a function is also defined to transform inputs and outputs from binary space to bipolar space, as well as a function as a threshold function to have the output in bipolar format. Additionally, a function is defined to calculate the error. Finally, the network is trained using the three characters.\n",
    "\n",
    "\n",
    "\n",
    "\n",
    "\n"
   ]
  },
  {
   "cell_type": "code",
   "execution_count": 38,
   "metadata": {},
   "outputs": [
    {
     "name": "stdout",
     "output_type": "stream",
     "text": [
      "Error = [16.  0.  0.]\n"
     ]
    },
    {
     "data": {
      "image/png": "[encoded data removed]",
      "text/plain": [
       "<Figure size 800x800 with 3 Axes>"
      ]
     },
     "metadata": {},
     "output_type": "display_data"
    }
   ],
   "source": [
    "\n",
    "# Input, Output, and Target Definitions\n",
    "input = ([AT1, AT2, AT3, BT1, BT2, BT3, MT1, MT2, MT3])\n",
    "output = ([A4, A4, A4, B4, B4, B4, M4, M4, M4])\n",
    "target = ([A4,B4,M4])\n",
    "\n",
    "#Function to Convert Binary Vector to Bipolar\n",
    "def bipolar(Matrix):\n",
    "    # Iterate through the elements of the input matrix\n",
    "    for i in range (len(Matrix)):\n",
    "        X = Matrix[i]\n",
    "        # Iterate through the columns of each element\n",
    "        for j in range (len(X[0])):\n",
    "            if (X[0,j]==0):\n",
    "                X[0,j]=-1\n",
    "    return Matrix\n",
    "\n",
    "\n",
    "# Function for Thresholding to Convert Final Output to Binary\n",
    "def binary (Matrix):\n",
    "    for i in range (len(Matrix)):\n",
    "        for j in range (len(Matrix[0])):\n",
    "            if (Matrix[i,j]>0):\n",
    "                Matrix[i,j]=1\n",
    "            else:\n",
    "                Matrix[i,j]=0\n",
    "    return Matrix\n",
    "\n",
    "# Function to Calculate Error\n",
    "def calculate_error(Matrix1, Matrix2):\n",
    "    error = np.zeros(len(Matrix1))\n",
    "    for i in range(len(Matrix2)):\n",
    "        X1 = Matrix1[i]\n",
    "        X2 = Matrix2[i]\n",
    "\n",
    "        for j in range(60):\n",
    "            diff = (X1[0, j] - X2[0, j])\n",
    "            error [i] = error[i] + diff**2\n",
    "            \n",
    "    return error\n",
    "\n",
    "# Converting Inputs and Outputs to Bipolar Coding  \n",
    "bipolar (input)\n",
    "bipolar (output)\n",
    "\n",
    "\n",
    "#Training Using The Three Characters\n",
    "W2 = np.zeros ((120,60))\n",
    "for j in range (8):\n",
    "    W2 = W2 + np.matmul(input[j], output[j])\n",
    "\n",
    "\n",
    "\n",
    "# Testing the Network \n",
    "A6m = np.matmul(A3, W2)\n",
    "A6 = A6m.reshape (10,6)\n",
    "A6 = binary (A6)\n",
    "\n",
    "B6m = np.matmul(B3, W2)\n",
    "B6 = B6m.reshape (10,6)\n",
    "B6 = binary (B6)\n",
    "\n",
    "M6m = np.matmul(M2, W2)\n",
    "M6 = M6m.reshape (10,6)\n",
    "M6 = binary (M6)\n",
    "\n",
    "\n",
    "\n",
    "# Converting Outputs to Bipolar Coding\n",
    "Final_Out2 = ([A6m,B6m,M6m])\n",
    "bipolar (Final_Out2)\n",
    "\n",
    "# Calculating the Error for the Network and Printing the Results\n",
    "E2 = calculate_error(target,Final_Out2)\n",
    "print (\"Error =\",E2)\n",
    "\n",
    "plt.figure(1, figsize=(8, 8))\n",
    "plt.subplot(2, 4, 1), plt.imshow(A6, cmap='gray'), plt.title('A')\n",
    "plt.subplot(2, 4, 2), plt.imshow(B6, cmap='gray'), plt.title('B')\n",
    "plt.subplot(2, 4, 3), plt.imshow(M6, cmap='gray'), plt.title('M')\n",
    "plt.show()"
   ]
  },
  {
   "attachments": {},
   "cell_type": "markdown",
   "metadata": {},
   "source": [
    "In this section, noisy input data with a 5% noise level has been defined for each character. After being presented, these inputs are transformed into a 1x120 dimensional format."
   ]
  },
  {
   "cell_type": "code",
   "execution_count": 39,
   "metadata": {},
   "outputs": [
    {
     "data": {
      "image/png": "[encoded data removed]",
      "text/plain": [
       "<Figure size 1200x800 with 3 Axes>"
      ]
     },
     "metadata": {},
     "output_type": "display_data"
    }
   ],
   "source": [
    "A7 = np.array([\n",
    "    [0, 1, 1, 1, 1, 1, 1, 1, 0, 0],\n",
    "    [0, 1, 0, 0, 0, 0, 0, 1, 0, 0],\n",
    "    [0, 1, 0, 0, 0, 0, 0, 1, 0, 0],\n",
    "    [0, 1, 1, 1, 1, 1, 1, 1, 0, 0],\n",
    "    [0, 1, 0, 0, 0, 0, 0, 1, 0, 1],\n",
    "    [1, 1, 0, 0, 0, 0, 0, 1, 0, 0],\n",
    "    [0, 1, 0, 0, 0, 0, 0, 1, 0, 1],\n",
    "    [0, 1, 0, 0, 0, 0, 0, 1, 0, 1],\n",
    "    [0, 1, 0, 0, 0, 0, 0, 1, 0, 0],\n",
    "    [0, 1, 0, 0, 0, 0, 0, 1, 0, 0],\n",
    "    [0, 0, 0, 0, 0, 0, 0, 0, 0, 0],\n",
    "    [0, 0, 0, 0, 1, 0, 0, 1, 0, 1]\n",
    "])\n",
    "\n",
    "B7 = np.array([\n",
    "    [0, 1, 1, 1, 1, 1, 1, 0, 0, 1],\n",
    "    [0, 1, 0, 0, 0, 0, 0, 1, 0, 0],\n",
    "    [1, 1, 0, 0, 0, 0, 0, 1, 0, 0],\n",
    "    [0, 1, 0, 0, 0, 0, 0, 1, 1, 0],\n",
    "    [0, 1, 0, 0, 0, 0, 0, 1, 0, 0],\n",
    "    [0, 1, 1, 1, 1, 1, 1, 0, 0, 0],\n",
    "    [0, 1, 0, 0, 0, 0, 0, 1, 0, 0],\n",
    "    [0, 1, 0, 0, 0, 0, 0, 1, 1, 1],\n",
    "    [0, 1, 0, 0, 0, 0, 0, 1, 0, 0],\n",
    "    [0, 1, 0, 0, 0, 0, 0, 1, 0, 0],\n",
    "    [0, 1, 1, 1, 1, 1, 1, 0, 0, 0],\n",
    "    [0, 0, 0, 0, 0, 0, 0, 0, 0, 1]\n",
    "])\n",
    "\n",
    "M7 = np.array([\n",
    "    [1, 0, 0, 0, 0, 0, 0, 0, 0, 1],\n",
    "    [1, 1, 0, 0, 0, 0, 0, 0, 1, 1],\n",
    "    [1, 0, 1, 0, 0, 0, 0, 1, 0, 1],\n",
    "    [1, 0, 0, 1, 0, 0, 1, 0, 0, 1],\n",
    "    [1, 0, 0, 0, 1, 1, 0, 0, 0, 1],\n",
    "    [1, 0, 0, 0, 0, 0, 0, 0, 0, 1],\n",
    "    [1, 0, 0, 0, 0, 0, 0, 0, 0, 1],\n",
    "    [1, 0, 0, 0, 1, 0, 0, 0, 0, 1],\n",
    "    [1, 0, 0, 0, 1, 0, 0, 0, 0, 1],\n",
    "    [1, 0, 0, 0, 0, 0, 0, 0, 0, 1],\n",
    "    [0, 0, 0, 0, 0, 0, 0, 0, 0, 0],\n",
    "    [1, 0, 0, 1, 1, 0, 1, 0, 0, 0]\n",
    "])\n",
    "\n",
    "\n",
    "plt.figure(1, figsize=(12, 8))\n",
    "plt.subplot(2, 4, 1), plt.imshow(A7, cmap='gray'), plt.title('A')\n",
    "plt.subplot(2, 4, 2), plt.imshow(B7, cmap='gray'), plt.title('B')\n",
    "plt.subplot(2, 4, 3), plt.imshow(M7, cmap='gray'), plt.title('M')\n",
    "plt.show()\n",
    "\n",
    "A7=A7.reshape(1,120)\n",
    "B7=B7.reshape(1,120)\n",
    "M7=M7.reshape(1,120)\n"
   ]
  },
  {
   "attachments": {},
   "cell_type": "markdown",
   "metadata": {},
   "source": [
    "in this section, the network is tested with 5% noisy input data, and the results and errors for each character is displayed."
   ]
  },
  {
   "cell_type": "code",
   "execution_count": 40,
   "metadata": {},
   "outputs": [
    {
     "name": "stdout",
     "output_type": "stream",
     "text": [
      "Error = [24. 72.  0.]\n"
     ]
    },
    {
     "data": {
      "image/png": "[encoded data removed]",
      "text/plain": [
       "<Figure size 800x800 with 3 Axes>"
      ]
     },
     "metadata": {},
     "output_type": "display_data"
    }
   ],
   "source": [
    "\n",
    "# Testing the Network\n",
    "A6m = np.matmul(A7, W2)\n",
    "A6 = A6m.reshape (10,6)\n",
    "A6 = binary (A6)\n",
    "\n",
    "B6m = np.matmul(B7, W2)\n",
    "B6 = B6m.reshape (10,6)\n",
    "B6 = binary (B6)\n",
    "\n",
    "M6m = np.matmul(M7, W2)\n",
    "M6 = M6m.reshape (10,6)\n",
    "M6 = binary (M6)\n",
    "\n",
    "# Convert Outputs to Bipolar Coding\n",
    "Final_Out2 = ([A6m,B6m,M6m])\n",
    "bipolar (Final_Out2)\n",
    "\n",
    "# Calculating the Error\n",
    "E2 = calculate_error(target,Final_Out2)\n",
    "print (\"Error =\",E2)\n",
    "\n",
    "\n",
    "plt.figure(1, figsize=(8, 8))\n",
    "plt.subplot(2, 4, 1), plt.imshow(A6, cmap='gray'), plt.title('A')\n",
    "plt.subplot(2, 4, 2), plt.imshow(B6, cmap='gray'), plt.title('B')\n",
    "plt.subplot(2, 4, 3), plt.imshow(M6, cmap='gray'), plt.title('M')\n",
    "plt.show()"
   ]
  },
  {
   "attachments": {},
   "cell_type": "markdown",
   "metadata": {},
   "source": [
    "In this section, noisy input data with a 10% noise level has been defined for each character. After being presented, these inputs are transformed into a 1x120 dimensional format."
   ]
  },
  {
   "cell_type": "code",
   "execution_count": 41,
   "metadata": {},
   "outputs": [
    {
     "data": {
      "image/png": "[encoded data removed]",
      "text/plain": [
       "<Figure size 1200x800 with 3 Axes>"
      ]
     },
     "metadata": {},
     "output_type": "display_data"
    }
   ],
   "source": [
    "A7 = np.array([\n",
    "    [0, 1, 1, 1, 1, 1, 1, 1, 0, 0],\n",
    "    [0, 1, 0, 0, 0, 0, 0, 1, 0, 0],\n",
    "    [0, 1, 0, 0, 0, 0, 0, 1, 0, 0],\n",
    "    [0, 1, 1, 1, 1, 1, 1, 1, 0, 0],\n",
    "    [0, 1, 0, 0, 0, 0, 0, 1, 1, 1],\n",
    "    [1, 1, 0, 0, 0, 0, 0, 1, 0, 0],\n",
    "    [0, 1, 0, 1, 1, 1, 0, 1, 0, 1],\n",
    "    [0, 1, 0, 0, 0, 0, 0, 1, 0, 1],\n",
    "    [0, 1, 0, 1, 0, 0, 0, 1, 0, 0],\n",
    "    [0, 1, 0, 1, 0, 0, 0, 1, 0, 0],\n",
    "    [0, 0, 0, 0, 0, 0, 0, 0, 0, 0],\n",
    "    [0, 0, 0, 0, 1, 0, 0, 1, 0, 1]\n",
    "])\n",
    "\n",
    "B7 = np.array([\n",
    "    [0, 1, 1, 1, 1, 1, 1, 0, 0, 1],\n",
    "    [0, 1, 0, 0, 0, 0, 0, 1, 0, 0],\n",
    "    [1, 1, 0, 0, 0, 0, 0, 1, 0, 0],\n",
    "    [0, 1, 0, 0, 0, 0, 0, 1, 1, 1],\n",
    "    [0, 1, 0, 0, 0, 0, 0, 1, 0, 0],\n",
    "    [0, 1, 1, 1, 1, 1, 1, 0, 0, 0],\n",
    "    [0, 1, 0, 0, 0, 0, 0, 1, 0, 0],\n",
    "    [0, 1, 0, 0, 0, 1, 0, 1, 1, 1],\n",
    "    [0, 1, 0, 0, 0, 0, 0, 1, 0, 0],\n",
    "    [1, 1, 0, 0, 0, 0, 0, 1, 0, 1],\n",
    "    [1, 1, 1, 1, 1, 1, 1, 0, 0, 0],\n",
    "    [0, 1, 0, 0, 0, 0, 0, 0, 0, 1]\n",
    "])\n",
    "\n",
    "M7 = np.array([\n",
    "    [1, 0, 0, 0, 0, 0, 0, 0, 0, 1],\n",
    "    [1, 1, 0, 0, 0, 0, 0, 0, 1, 1],\n",
    "    [1, 0, 1, 0, 0, 0, 0, 1, 0, 1],\n",
    "    [1, 0, 0, 1, 0, 0, 1, 0, 0, 1],\n",
    "    [1, 0, 1, 0, 1, 1, 0, 0, 0, 1],\n",
    "    [1, 0, 0, 0, 0, 0, 0, 0, 0, 1],\n",
    "    [1, 1, 0, 0, 0, 0, 0, 0, 0, 1],\n",
    "    [1, 1, 0, 0, 1, 0, 0, 0, 0, 1],\n",
    "    [1, 0, 0, 0, 1, 0, 0, 1, 0, 1],\n",
    "    [1, 0, 0, 0, 0, 0, 0, 0, 0, 1],\n",
    "    [0, 0, 1, 0, 0, 0, 0, 0, 0, 0],\n",
    "    [1, 0, 1, 1, 1, 0, 1, 0, 0, 0]\n",
    "])\n",
    "\n",
    "\n",
    "\n",
    "plt.figure(1, figsize=(12, 8))\n",
    "plt.subplot(2, 4, 1), plt.imshow(A7, cmap='gray'), plt.title('A')\n",
    "plt.subplot(2, 4, 2), plt.imshow(B7, cmap='gray'), plt.title('B')\n",
    "plt.subplot(2, 4, 3), plt.imshow(M7, cmap='gray'), plt.title('M')\n",
    "plt.show()\n",
    "\n",
    "A7=A7.reshape(1,120)\n",
    "B7=B7.reshape(1,120)\n",
    "M7=M7.reshape(1,120)\n"
   ]
  },
  {
   "attachments": {},
   "cell_type": "markdown",
   "metadata": {},
   "source": [
    "in this section, the network is tested with 10% noisy input data, and the results and errors for each character is displayed."
   ]
  },
  {
   "cell_type": "code",
   "execution_count": 42,
   "metadata": {},
   "outputs": [
    {
     "name": "stdout",
     "output_type": "stream",
     "text": [
      "Error = [24. 72. 32.]\n"
     ]
    },
    {
     "data": {
      "image/png": "[encoded data removed]",
      "text/plain": [
       "<Figure size 800x800 with 3 Axes>"
      ]
     },
     "metadata": {},
     "output_type": "display_data"
    }
   ],
   "source": [
    "\n",
    "# Testing the Network\n",
    "A6m = np.matmul(A7, W2)\n",
    "A6 = A6m.reshape (10,6)\n",
    "A6 = binary (A6)\n",
    "\n",
    "B6m = np.matmul(B7, W2)\n",
    "B6 = B6m.reshape (10,6)\n",
    "B6 = binary (B6)\n",
    "\n",
    "M6m = np.matmul(M7, W2)\n",
    "M6 = M6m.reshape (10,6)\n",
    "M6 = binary (M6)\n",
    "\n",
    "\n",
    "# Convert Outputs to Bipolar Coding\n",
    "Final_Out2 = ([A6m,B6m,M6m])\n",
    "bipolar (Final_Out2)\n",
    "\n",
    "# Calculating the Error\n",
    "E2 = calculate_error(target,Final_Out2)\n",
    "print (\"Error =\",E2)\n",
    "\n",
    "\n",
    "plt.figure(1, figsize=(8, 8))\n",
    "plt.subplot(2, 4, 1), plt.imshow(A6, cmap='gray'), plt.title('A')\n",
    "plt.subplot(2, 4, 2), plt.imshow(B6, cmap='gray'), plt.title('B')\n",
    "plt.subplot(2, 4, 3), plt.imshow(M6, cmap='gray'), plt.title('M')\n",
    "plt.show()"
   ]
  },
  {
   "attachments": {},
   "cell_type": "markdown",
   "metadata": {},
   "source": [
    "In this section, noisy input data with a 20% noise level has been defined for each character. After being presented, these inputs are transformed into a 1x120 dimensional format."
   ]
  },
  {
   "cell_type": "code",
   "execution_count": 43,
   "metadata": {},
   "outputs": [
    {
     "data": {
      "image/png": "[encoded data removed]",
      "text/plain": [
       "<Figure size 1200x800 with 3 Axes>"
      ]
     },
     "metadata": {},
     "output_type": "display_data"
    }
   ],
   "source": [
    "A7 = np.array([\n",
    "    [0, 1, 1, 1, 1, 1, 1, 1, 0, 1],\n",
    "    [0, 1, 0, 0, 0, 0, 0, 1, 0, 1],\n",
    "    [0, 1, 0, 0, 0, 0, 0, 1, 0, 0],\n",
    "    [0, 1, 1, 1, 1, 1, 1, 1, 0, 0],\n",
    "    [0, 1, 0, 0, 0, 0, 0, 1, 1, 1],\n",
    "    [1, 1, 0, 0, 0, 0, 0, 1, 0, 0],\n",
    "    [0, 1, 0, 1, 1, 1, 0, 1, 0, 1],\n",
    "    [0, 1, 0, 0, 0, 0, 0, 1, 0, 1],\n",
    "    [0, 1, 0, 1, 1, 1, 1, 1, 1, 0],\n",
    "    [1, 1, 0, 1, 0, 0, 0, 1, 1, 1],\n",
    "    [1, 0, 0, 0, 0, 0, 0, 0, 0, 0],\n",
    "    [1, 0, 1, 0, 1, 0, 0, 1, 0, 1]\n",
    "])\n",
    "\n",
    "B7 = np.array([\n",
    "    [0, 1, 1, 1, 1, 1, 1, 0, 0, 1],\n",
    "    [0, 1, 0, 0, 0, 0, 0, 1, 0, 1],\n",
    "    [1, 1, 0, 1, 0, 0, 0, 1, 0, 0],\n",
    "    [0, 1, 0, 0, 0, 0, 0, 1, 1, 1],\n",
    "    [1, 1, 0, 0, 0, 0, 0, 1, 0, 0],\n",
    "    [1, 1, 1, 1, 1, 1, 1, 0, 0, 1],\n",
    "    [0, 1, 0, 0, 0, 0, 0, 1, 0, 1],\n",
    "    [0, 1, 0, 0, 0, 1, 0, 1, 1, 1],\n",
    "    [0, 1, 1, 1, 1, 0, 0, 1, 0, 0],\n",
    "    [1, 1, 0, 0, 0, 0, 0, 1, 0, 1],\n",
    "    [1, 1, 1, 1, 1, 1, 1, 0, 0, 0],\n",
    "    [0, 1, 0, 0, 0, 0, 1, 1, 1, 1]\n",
    "])\n",
    "\n",
    "M7 = np.array([\n",
    "    [1, 0, 0, 0, 0, 0, 0, 1, 1, 1],\n",
    "    [1, 1, 0, 0, 1, 1, 0, 0, 1, 1],\n",
    "    [1, 0, 1, 0, 0, 0, 0, 1, 0, 1],\n",
    "    [1, 0, 0, 1, 0, 0, 1, 0, 0, 1],\n",
    "    [1, 0, 1, 0, 1, 1, 0, 0, 0, 1],\n",
    "    [1, 0, 0, 0, 0, 0, 0, 1, 0, 1],\n",
    "    [1, 1, 0, 0, 0, 0, 0, 1, 0, 1],\n",
    "    [1, 1, 0, 0, 1, 0, 0, 0, 0, 1],\n",
    "    [1, 0, 0, 0, 1, 0, 0, 1, 0, 1],\n",
    "    [1, 1, 0, 0, 0, 0, 0, 0, 0, 1],\n",
    "    [0, 1, 1, 0, 1, 1, 0, 1, 0, 0],\n",
    "    [1, 1, 1, 1, 1, 0, 1, 0, 0, 0]\n",
    "])\n",
    "\n",
    "\n",
    "\n",
    "\n",
    "plt.figure(1, figsize=(12, 8))\n",
    "plt.subplot(2, 4, 1), plt.imshow(A7, cmap='gray'), plt.title('A')\n",
    "plt.subplot(2, 4, 2), plt.imshow(B7, cmap='gray'), plt.title('B')\n",
    "plt.subplot(2, 4, 3), plt.imshow(M7, cmap='gray'), plt.title('M')\n",
    "plt.show()\n",
    "\n",
    "A7=A7.reshape(1,120)\n",
    "B7=B7.reshape(1,120)\n",
    "M7=M7.reshape(1,120)\n"
   ]
  },
  {
   "attachments": {},
   "cell_type": "markdown",
   "metadata": {},
   "source": [
    "in this section, the network is tested with 20% noisy input data, and the results and errors for each character is displayed."
   ]
  },
  {
   "cell_type": "code",
   "execution_count": 44,
   "metadata": {},
   "outputs": [
    {
     "name": "stdout",
     "output_type": "stream",
     "text": [
      "Error = [24. 72. 32.]\n"
     ]
    },
    {
     "data": {
      "image/png": "[encoded data removed]",
      "text/plain": [
       "<Figure size 800x800 with 3 Axes>"
      ]
     },
     "metadata": {},
     "output_type": "display_data"
    }
   ],
   "source": [
    "# Testing the Network\n",
    "A6m = np.matmul(A7, W2)\n",
    "A6 = A6m.reshape (10,6)\n",
    "A6 = binary (A6)\n",
    "\n",
    "B6m = np.matmul(B7, W2)\n",
    "B6 = B6m.reshape (10,6)\n",
    "B6 = binary (B6)\n",
    "\n",
    "M6m = np.matmul(M7, W2)\n",
    "M6 = M6m.reshape (10,6)\n",
    "M6 = binary (M6)\n",
    "\n",
    "\n",
    "# Convert Outputs to Bipolar Coding\n",
    "Final_Out2 = ([A6m,B6m,M6m])\n",
    "bipolar (Final_Out2)\n",
    "\n",
    "# Calculating the Error\n",
    "E2 = calculate_error(target,Final_Out2)\n",
    "print (\"Error =\",E2)\n",
    "\n",
    "\n",
    "plt.figure(1, figsize=(8, 8))\n",
    "plt.subplot(2, 4, 1), plt.imshow(A6, cmap='gray'), plt.title('A')\n",
    "plt.subplot(2, 4, 2), plt.imshow(B6, cmap='gray'), plt.title('B')\n",
    "plt.subplot(2, 4, 3), plt.imshow(M6, cmap='gray'), plt.title('M')\n",
    "plt.show()"
   ]
  }
 ],
 "metadata": {
  "kernelspec": {
   "display_name": "Python 3.10.6 64-bit (windows store)",
   "language": "python",
   "name": "python3"
  },
  "language_info": {
   "codemirror_mode": {
    "name": "ipython",
    "version": 3
   },
   "file_extension": ".py",
   "mimetype": "text/x-python",
   "name": "python",
   "nbconvert_exporter": "python",
   "pygments_lexer": "ipython3",
   "version": "3.10.11"
  },
  "orig_nbformat": 4,
  "vscode": {
   "interpreter": {
    "hash": "d3a7952c18ae5b907ca71437bf39d58c7f611646d8f394c496aa7a2183c95757"
   }
  }
 },
 "nbformat": 4,
 "nbformat_minor": 2
}
